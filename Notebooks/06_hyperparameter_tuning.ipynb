{
  "cells": [
    {
      "cell_type": "markdown",
      "metadata": {},
      "source": [
        "# 06 - Hyperparameter Tuning & Export Model"
      ]
    },
    {
      "cell_type": "code",
      "execution_count": 26,
      "metadata": {},
      "outputs": [
        {
          "name": "stdout",
          "output_type": "stream",
          "text": [
            "Train: (242, 10)  Test: (61, 10)\n"
          ]
        }
      ],
      "source": [
        "# Required Libs\n",
        "import pandas as pd\n",
        "import numpy as np\n",
        "import matplotlib.pyplot as plt\n",
        "import seaborn as sns\n",
        "from sklearn.model_selection import train_test_split, GridSearchCV, RandomizedSearchCV\n",
        "from sklearn.linear_model import LogisticRegression\n",
        "from sklearn.tree import DecisionTreeClassifier\n",
        "from sklearn.ensemble import RandomForestClassifier\n",
        "from sklearn.svm import SVC\n",
        "from sklearn.metrics import accuracy_score, precision_score, recall_score, f1_score, roc_auc_score\n",
        "\n",
        "\n",
        "# Load selected features dataset\n",
        "heart_disease_selected = pd.read_csv(r\"C:\\Users\\eyad0\\Documents\\python\\Heart_Disease_Project\\data\\heart_disease_selected.csv\")\n",
        "\n",
        "x = heart_disease_selected.drop(\"num\", axis=1)\n",
        "y = (heart_disease_selected[\"num\"] > 0).astype(int)   # binary target\n",
        "\n",
        "# Split train / test\n",
        "x_train, x_test, y_train, y_test = train_test_split(x, y, test_size=0.2, random_state=42, stratify=y)\n",
        "\n",
        "print(\"Train:\", x_train.shape, \" Test:\", x_test.shape)"
      ]
    },
    {
      "cell_type": "code",
      "execution_count": 27,
      "id": "d67f2dfb",
      "metadata": {},
      "outputs": [
        {
          "name": "stdout",
          "output_type": "stream",
          "text": [
            "=== Baseline Results ===\n",
            "                     Accuracy        F1\n",
            "Logistic Regression  0.918033  0.912281\n",
            "Decision Tree        0.688525  0.641509\n",
            "Random Forest        0.737705  0.714286\n",
            "SVM                  0.868852  0.857143\n"
          ]
        }
      ],
      "source": [
        "baseline_models = {\n",
        "    \"Logistic Regression\": LogisticRegression(max_iter=1000, random_state=42),\n",
        "    \"Decision Tree\": DecisionTreeClassifier(random_state=42),\n",
        "    \"Random Forest\": RandomForestClassifier(random_state=42),\n",
        "    \"SVM\": SVC(probability=True, random_state=42)\n",
        "}\n",
        "\n",
        "baseline_results = {}\n",
        "\n",
        "for name, model in baseline_models.items():\n",
        "    model.fit(x_train, y_train)\n",
        "    y_pred = model.predict(x_test)\n",
        "    acc = accuracy_score(y_test, y_pred)\n",
        "    f1 = f1_score(y_test, y_pred)\n",
        "    baseline_results[name] = [acc, f1]\n",
        "\n",
        "baseline_df = pd.DataFrame.from_dict(baseline_results, orient=\"index\", columns=[\"Accuracy\", \"F1\"])\n",
        "print(\"=== Baseline Results ===\")\n",
        "print(baseline_df)\n"
      ]
    },
    {
      "cell_type": "code",
      "execution_count": 28,
      "id": "1966a6c4",
      "metadata": {},
      "outputs": [
        {
          "name": "stdout",
          "output_type": "stream",
          "text": [
            "Best Logistic Regression Params: {'C': 1, 'penalty': 'l1', 'solver': 'liblinear'}\n",
            "Best Logistic Regression CV Score: 0.8178571428571428\n"
          ]
        }
      ],
      "source": [
        "param_grid_log = [\n",
        "    { \"solver\": [\"lbfgs\"], \"penalty\": [\"l2\", None], \"C\": [0.01, 0.1, 1, 10, 100] },\n",
        "    { \"solver\": [\"liblinear\"], \"penalty\": [\"l1\", \"l2\"], \"C\": [0.01, 0.1, 1, 10, 100] },\n",
        "    { \"solver\": [\"saga\"], \"penalty\": [\"l1\", \"l2\", \"elasticnet\", None], \"C\": [0.01, 0.1, 1, 10, 100], \"l1_ratio\": [0.0, 0.5, 1.0] }\n",
        "]\n",
        "\n",
        "\n",
        "grid_log = GridSearchCV(\n",
        "    LogisticRegression(max_iter=1000, random_state=42),\n",
        "    param_grid_log, cv=5, scoring=\"accuracy\", n_jobs=-1\n",
        ")\n",
        "grid_log.fit(x_train, y_train)\n",
        "\n",
        "print(\"Best Logistic Regression Params:\", grid_log.best_params_)\n",
        "print(\"Best Logistic Regression CV Score:\", grid_log.best_score_)\n"
      ]
    },
    {
      "cell_type": "code",
      "execution_count": 29,
      "id": "3f175f2f",
      "metadata": {},
      "outputs": [
        {
          "name": "stdout",
          "output_type": "stream",
          "text": [
            "Best Decision Tree Params: {'max_depth': 10, 'min_samples_leaf': 2, 'min_samples_split': 5}\n",
            "Best Decision Tree CV Score: 0.7933673469387755\n"
          ]
        }
      ],
      "source": [
        "# Decision Tree (GridSearchCV)\n",
        "param_grid_dt = {\n",
        "    \"max_depth\": [3, 5, 10, None],\n",
        "    \"min_samples_split\": [2, 5, 10],\n",
        "    \"min_samples_leaf\": [1, 2, 4]\n",
        "}\n",
        "\n",
        "grid_dt = GridSearchCV(\n",
        "    DecisionTreeClassifier(random_state=42),\n",
        "    param_grid_dt, cv=5, scoring=\"accuracy\", n_jobs=-1\n",
        ")\n",
        "grid_dt.fit(x_train, y_train)\n",
        "\n",
        "print(\"Best Decision Tree Params:\", grid_dt.best_params_)\n",
        "print(\"Best Decision Tree CV Score:\", grid_dt.best_score_)\n"
      ]
    },
    {
      "cell_type": "code",
      "execution_count": 30,
      "id": "67c3d6a5",
      "metadata": {},
      "outputs": [
        {
          "name": "stdout",
          "output_type": "stream",
          "text": [
            "Best Random Forest Params: {'n_estimators': 100, 'min_samples_split': 10, 'min_samples_leaf': 1, 'max_depth': 40, 'bootstrap': False}\n",
            "Best Random Forest CV Score: 0.8097789115646258\n"
          ]
        }
      ],
      "source": [
        "# Random Forest (RandomizedSearchCV)\n",
        "param_dist_rf = {\n",
        "    \"n_estimators\": [100, 200, 300, 400, 500],\n",
        "    \"max_depth\": [None, 10, 20, 30, 40],\n",
        "    \"min_samples_split\": [2, 5, 10],\n",
        "    \"min_samples_leaf\": [1, 2, 4],\n",
        "    \"bootstrap\": [True, False]\n",
        "}\n",
        "\n",
        "rand_rf = RandomizedSearchCV(\n",
        "    RandomForestClassifier(random_state=42),\n",
        "    param_distributions=param_dist_rf,\n",
        "    n_iter=20, cv=5, scoring=\"accuracy\", random_state=42, n_jobs=-1\n",
        ")\n",
        "rand_rf.fit(x_train, y_train)\n",
        "\n",
        "print(\"Best Random Forest Params:\", rand_rf.best_params_)\n",
        "print(\"Best Random Forest CV Score:\", rand_rf.best_score_)\n"
      ]
    },
    {
      "cell_type": "code",
      "execution_count": 31,
      "id": "e830f9c6",
      "metadata": {},
      "outputs": [
        {
          "name": "stdout",
          "output_type": "stream",
          "text": [
            "Best SVM Params: {'kernel': 'linear', 'gamma': 'scale', 'C': 0.1}\n",
            "Best SVM CV Score: 0.8261054421768707\n"
          ]
        }
      ],
      "source": [
        "# SVM (RandomizedSearchCV)\n",
        "param_dist_svm = {\n",
        "    \"C\": [0.1, 1, 10, 100],\n",
        "    \"gamma\": [\"scale\", \"auto\", 0.01, 0.1, 1],\n",
        "    \"kernel\": [\"linear\", \"rbf\", \"poly\"]\n",
        "}\n",
        "\n",
        "rand_svm = RandomizedSearchCV(\n",
        "    SVC(probability=True, random_state=42),\n",
        "    param_distributions=param_dist_svm,\n",
        "    n_iter=20, cv=5, scoring=\"accuracy\", random_state=42, n_jobs=-1\n",
        ")\n",
        "rand_svm.fit(x_train, y_train)\n",
        "\n",
        "print(\"Best SVM Params:\", rand_svm.best_params_)\n",
        "print(\"Best SVM CV Score:\", rand_svm.best_score_)\n"
      ]
    },
    {
      "cell_type": "code",
      "execution_count": 32,
      "id": "1d730e70",
      "metadata": {},
      "outputs": [
        {
          "name": "stdout",
          "output_type": "stream",
          "text": [
            "=== Tuned Results ===\n",
            "                     Accuracy        F1\n",
            "Logistic Regression  0.918033  0.912281\n",
            "Decision Tree        0.819672  0.775510\n",
            "Random Forest        0.770492  0.750000\n",
            "SVM                  0.885246  0.877193\n",
            "\n",
            "=== Baseline vs Tuned Models ===\n",
            "                     Accuracy_Baseline  F1_Baseline  Accuracy_Tuned  F1_Tuned\n",
            "Logistic Regression           0.918033     0.912281        0.918033  0.912281\n",
            "Decision Tree                 0.688525     0.641509        0.819672  0.775510\n",
            "Random Forest                 0.737705     0.714286        0.770492  0.750000\n",
            "SVM                           0.868852     0.857143        0.885246  0.877193\n"
          ]
        }
      ],
      "source": [
        "# Compare Tuned vs Baseline\n",
        "tuned_models = {\n",
        "    \"Logistic Regression\": grid_log.best_estimator_,\n",
        "    \"Decision Tree\": grid_dt.best_estimator_,\n",
        "    \"Random Forest\": rand_rf.best_estimator_,\n",
        "    \"SVM\": rand_svm.best_estimator_\n",
        "}\n",
        "\n",
        "tuned_results = {}\n",
        "\n",
        "for name, model in tuned_models.items():\n",
        "    y_pred = model.predict(x_test)\n",
        "    acc = accuracy_score(y_test, y_pred)\n",
        "    f1 = f1_score(y_test, y_pred)\n",
        "    tuned_results[name] = [acc, f1]\n",
        "\n",
        "tuned_df = pd.DataFrame.from_dict(tuned_results, orient=\"index\", columns=[\"Accuracy\", \"F1\"])\n",
        "print(\"=== Tuned Results ===\")\n",
        "print(tuned_df)\n",
        "\n",
        "# baseline Vs tuned\n",
        "comparison_df = baseline_df.join(tuned_df, lsuffix=\"_Baseline\", rsuffix=\"_Tuned\")\n",
        "print(\"\\n=== Baseline vs Tuned Models ===\")\n",
        "print(comparison_df)\n"
      ]
    },
    {
      "cell_type": "markdown",
      "id": "80a98aa1",
      "metadata": {},
      "source": [
        "## Step 2.7 – Model Export & Deployment\n"
      ]
    },
    {
      "cell_type": "code",
      "execution_count": 33,
      "id": "d24e5516",
      "metadata": {},
      "outputs": [
        {
          "name": "stdout",
          "output_type": "stream",
          "text": [
            "Final model saved to models/final_model.pkl\n"
          ]
        }
      ],
      "source": [
        "# =====================================\n",
        "# Step 2.7 – Model Export & Deployment\n",
        "# =====================================\n",
        "\n",
        "import joblib\n",
        "from sklearn.pipeline import Pipeline\n",
        "from sklearn.preprocessing import StandardScaler\n",
        "\n",
        "best_model = rand_rf.best_estimator_\n",
        "\n",
        "pipeline = Pipeline([\n",
        "    (\"scaler\", StandardScaler()),\n",
        "    (\"model\", best_model)\n",
        "])\n",
        "\n",
        "pipeline.fit(x, y)\n",
        "\n",
        "joblib.dump(pipeline, r\"C:\\Users\\eyad0\\Documents\\python\\Heart_Disease_Project\\models\\final_model.pkl\")\n",
        "\n",
        "print(\"Final model saved to models/final_model.pkl\")\n"
      ]
    }
  ],
  "metadata": {
    "kernelspec": {
      "display_name": "Python 3",
      "language": "python",
      "name": "python3"
    },
    "language_info": {
      "codemirror_mode": {
        "name": "ipython",
        "version": 3
      },
      "file_extension": ".py",
      "mimetype": "text/x-python",
      "name": "python",
      "nbconvert_exporter": "python",
      "pygments_lexer": "ipython3",
      "version": "3.12.2"
    }
  },
  "nbformat": 4,
  "nbformat_minor": 5
}
