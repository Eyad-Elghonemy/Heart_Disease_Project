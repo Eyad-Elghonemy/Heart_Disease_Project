{
  "cells": [
    {
      "cell_type": "markdown",
      "metadata": {},
      "source": [
        "# 03 - Feature Selection (Importance, RFE, Chi-Square)"
      ]
    },
    {
      "cell_type": "code",
      "execution_count": 15,
      "metadata": {},
      "outputs": [],
      "source": [
        "# Required Libs\n",
        "import numpy as np\n",
        "import pandas as pd\n",
        "from sklearn.model_selection import train_test_split\n",
        "from sklearn.ensemble import RandomForestClassifier\n",
        "from sklearn.feature_selection import RFE, chi2\n",
        "from sklearn.linear_model import LogisticRegression\n",
        "from sklearn.preprocessing import MinMaxScaler\n",
        "\n",
        "# Import Dataset\n",
        "heart_disease_clean = pd.read_csv(r'C:\\Users\\eyad0\\Documents\\python\\Heart_Disease_Project\\data\\heart_disease_clean.csv')"
      ]
    },
    {
      "cell_type": "code",
      "execution_count": 16,
      "id": "723e7cb9",
      "metadata": {},
      "outputs": [
        {
          "name": "stdout",
          "output_type": "stream",
          "text": [
            "      Feature  Importance\n",
            "5     thalach    0.143979\n",
            "7     oldpeak    0.121443\n",
            "3        chol    0.108823\n",
            "0         age    0.106639\n",
            "2    trestbps    0.097531\n",
            "16   thal_7.0    0.066591\n",
            "10       cp_4    0.057483\n",
            "6       exang    0.044042\n",
            "17     ca_1.0    0.036725\n",
            "13    slope_2    0.035043\n",
            "1         sex    0.031087\n",
            "18     ca_2.0    0.030665\n",
            "19     ca_3.0    0.026751\n",
            "12  restecg_2    0.026450\n",
            "4         fbs    0.018708\n",
            "9        cp_3    0.015191\n",
            "15   thal_6.0    0.014149\n",
            "14    slope_3    0.009049\n",
            "8        cp_2    0.008137\n",
            "11  restecg_1    0.001513\n"
          ]
        }
      ],
      "source": [
        "# 2) Split features & target\n",
        "x = heart_disease_clean.drop(\"num\", axis=1)\n",
        "y = heart_disease_clean[\"num\"]\n",
        "\n",
        "# 3) Train/Test Split\n",
        "x_train, x_test, y_train, y_test = train_test_split(x, y, test_size=0.2, random_state=42, stratify=y)\n",
        "\n",
        "# 4) Train Random Forest\n",
        "rf = RandomForestClassifier(n_estimators=200, random_state=42)\n",
        "rf.fit(x_train, y_train)\n",
        "\n",
        "# 5) Get Feature Importances\n",
        "importances = rf.feature_importances_\n",
        "feature_names = x.columns\n",
        "\n",
        "fi_df = pd.DataFrame({\"Feature\": feature_names, \"Importance\": importances})\n",
        "fi_df = fi_df.sort_values(by=\"Importance\", ascending=False)\n",
        "\n",
        "# Print feature ranking\n",
        "print(fi_df)"
      ]
    },
    {
      "cell_type": "code",
      "execution_count": 17,
      "id": "a04d31ad",
      "metadata": {},
      "outputs": [
        {
          "name": "stdout",
          "output_type": "stream",
          "text": [
            "Selected Features by RFE:\n",
            "Index(['sex', 'fbs', 'oldpeak', 'cp_4', 'slope_2', 'thal_6.0', 'thal_7.0',\n",
            "       'ca_1.0', 'ca_2.0', 'ca_3.0'],\n",
            "      dtype='object')\n",
            "\n",
            "Feature Rankings:\n",
            "      Feature  Rank\n",
            "1         sex     1\n",
            "4         fbs     1\n",
            "7     oldpeak     1\n",
            "10       cp_4     1\n",
            "13    slope_2     1\n",
            "15   thal_6.0     1\n",
            "17     ca_1.0     1\n",
            "16   thal_7.0     1\n",
            "19     ca_3.0     1\n",
            "18     ca_2.0     1\n",
            "12  restecg_2     2\n",
            "5     thalach     3\n",
            "0         age     4\n",
            "8        cp_2     5\n",
            "6       exang     6\n",
            "11  restecg_1     7\n",
            "9        cp_3     8\n",
            "3        chol     9\n",
            "2    trestbps    10\n",
            "14    slope_3    11\n"
          ]
        }
      ],
      "source": [
        "\n",
        "# Logistic Regression\n",
        "log_reg = LogisticRegression(max_iter=1000, random_state=42)\n",
        "\n",
        "# Features\n",
        "rfe = RFE(estimator=log_reg, n_features_to_select=10)\n",
        "rfe.fit(x_train, y_train)\n",
        "\n",
        "selected_features = x_train.columns[rfe.support_]\n",
        "print(\"Selected Features by RFE:\")\n",
        "print(selected_features)\n",
        "\n",
        "rfe_ranking = pd.DataFrame({\n",
        "    \"Feature\": x_train.columns,\n",
        "    \"Rank\": rfe.ranking_\n",
        "}).sort_values(by=\"Rank\")\n",
        "\n",
        "print(\"\\nFeature Rankings:\")\n",
        "print(rfe_ranking)\n"
      ]
    },
    {
      "cell_type": "code",
      "execution_count": 18,
      "id": "21ae7758",
      "metadata": {},
      "outputs": [
        {
          "name": "stdout",
          "output_type": "stream",
          "text": [
            "Selected Features by RFE with Random Forest:\n",
            "Index(['age', 'trestbps', 'chol', 'thalach', 'exang', 'oldpeak', 'cp_4',\n",
            "       'slope_2', 'thal_7.0', 'ca_1.0'],\n",
            "      dtype='object')\n",
            "\n",
            "Feature Rankings (RFE + RF):\n",
            "      Feature  Rank (RF)\n",
            "0         age          1\n",
            "2    trestbps          1\n",
            "3        chol          1\n",
            "5     thalach          1\n",
            "7     oldpeak          1\n",
            "6       exang          1\n",
            "13    slope_2          1\n",
            "10       cp_4          1\n",
            "17     ca_1.0          1\n",
            "16   thal_7.0          1\n",
            "18     ca_2.0          2\n",
            "1         sex          3\n",
            "19     ca_3.0          4\n",
            "12  restecg_2          5\n",
            "4         fbs          6\n",
            "9        cp_3          7\n",
            "15   thal_6.0          8\n",
            "14    slope_3          9\n",
            "8        cp_2         10\n",
            "11  restecg_1         11\n"
          ]
        }
      ],
      "source": [
        "from sklearn.feature_selection import RFE\n",
        "from sklearn.ensemble import RandomForestClassifier\n",
        "import pandas as pd\n",
        "\n",
        "# Random Forest\n",
        "rf_estimator = RandomForestClassifier(n_estimators=200, random_state=42)\n",
        "\n",
        "# Best 10 Features\n",
        "rfe_rf = RFE(estimator=rf_estimator, n_features_to_select=10)\n",
        "rfe_rf.fit(x_train, y_train)\n",
        "\n",
        "# Selected Features\n",
        "selected_features_rf = x_train.columns[rfe_rf.support_]\n",
        "print(\"Selected Features by RFE with Random Forest:\")\n",
        "print(selected_features_rf)\n",
        "\n",
        "# Ranking For Features\n",
        "rfe_rf_ranking = pd.DataFrame({\n",
        "    \"Feature\": x_train.columns,\n",
        "    \"Rank (RF)\": rfe_rf.ranking_\n",
        "}).sort_values(by=\"Rank (RF)\")\n",
        "\n",
        "print(\"\\nFeature Rankings (RFE + RF):\")\n",
        "print(rfe_rf_ranking)"
      ]
    },
    {
      "cell_type": "code",
      "execution_count": 19,
      "id": "950abfb0",
      "metadata": {},
      "outputs": [
        {
          "name": "stdout",
          "output_type": "stream",
          "text": [
            "Common Features: {'ca_1.0', 'cp_4', 'oldpeak', 'slope_2', 'thal_7.0'}\n"
          ]
        }
      ],
      "source": [
        "# Logistic & RFE\n",
        "features_logreg = set(selected_features)\n",
        "\n",
        "# Random Forest RFE\n",
        "features_rf_rfe = set(selected_features_rf)\n",
        "\n",
        "# Random Forest Importance\n",
        "features_rf_importance = set(fi_df.head(10)[\"Feature\"])\n",
        "\n",
        "common_features = features_logreg & features_rf_rfe & features_rf_importance\n",
        "print(\"Common Features:\", common_features)\n",
        "\n",
        "x_train_selected = x_train[list(common_features)]\n",
        "x_test_selected = x_test[list(common_features)]"
      ]
    },
    {
      "cell_type": "code",
      "execution_count": 20,
      "id": "1869c4b7",
      "metadata": {},
      "outputs": [
        {
          "name": "stdout",
          "output_type": "stream",
          "text": [
            "      Feature  Chi2 Stat       p-value\n",
            "16   thal_7.0  46.721875  1.742480e-09\n",
            "10       cp_4  45.129615  3.736737e-09\n",
            "6       exang  41.534482  2.083076e-08\n",
            "18     ca_2.0  34.648382  5.485601e-07\n",
            "19     ca_3.0  29.999871  4.894734e-06\n",
            "13    slope_2  22.408432  1.661808e-04\n",
            "9        cp_3  21.974965  2.027333e-04\n",
            "8        cp_2  16.942450  1.983352e-03\n",
            "7     oldpeak  16.451213  2.469786e-03\n",
            "17     ca_1.0  15.262296  4.187001e-03\n",
            "15   thal_6.0  10.943440  2.720708e-02\n",
            "1         sex   7.499223  1.117436e-01\n",
            "4         fbs   6.658223  1.550901e-01\n",
            "11  restecg_1   6.557266  1.612178e-01\n",
            "12  restecg_2   6.458947  1.673955e-01\n",
            "14    slope_3   5.528483  2.372371e-01\n",
            "5     thalach   3.133976  5.356604e-01\n",
            "0         age   1.244886  8.706545e-01\n",
            "2    trestbps   0.622014  9.605862e-01\n",
            "3        chol   0.175931  9.963506e-01\n"
          ]
        }
      ],
      "source": [
        "# Scale features to non-negative (required for chi2)\n",
        "scaler = MinMaxScaler()\n",
        "x_scaled = scaler.fit_transform(x)\n",
        "\n",
        "# Chi-Square Test\n",
        "chi2_vals, p_vals = chi2(x_scaled, y)\n",
        "\n",
        "chi2_df = pd.DataFrame({\n",
        "    \"Feature\": x.columns,\n",
        "    \"Chi2 Stat\": chi2_vals,\n",
        "    \"p-value\": p_vals\n",
        "}).sort_values(by=\"Chi2 Stat\", ascending=False)\n",
        "\n",
        "print(chi2_df)\n"
      ]
    },
    {
      "cell_type": "code",
      "execution_count": 21,
      "id": "b8313538",
      "metadata": {},
      "outputs": [
        {
          "name": "stdout",
          "output_type": "stream",
          "text": [
            "New dataset saved as data/heart_disease_selected.csv\n",
            "Shape: (303, 11)\n",
            "Columns: ['thal_7.0', 'cp_4', 'exang', 'ca_2.0', 'ca_3.0', 'slope_2', 'cp_3', 'cp_2', 'oldpeak', 'ca_1.0', 'num']\n"
          ]
        }
      ],
      "source": [
        "# Final selected features from Step 4 (Top 10 Chi-Square Features)\n",
        "final_features = ['thal_7.0', 'cp_4', 'exang', 'ca_2.0', 'ca_3.0', \n",
        "                  'slope_2', 'cp_3', 'cp_2', 'oldpeak', 'ca_1.0', 'num']\n",
        "\n",
        "# Create new dataset\n",
        "heart_disease_selected = heart_disease_clean[final_features]\n",
        "\n",
        "# Save to CSV\n",
        "heart_disease_selected.to_csv(r'C:\\Users\\eyad0\\Documents\\python\\Heart_Disease_Project\\data\\heart_disease_selected.csv', index=False)\n",
        "\n",
        "print(\"New dataset saved as data/heart_disease_selected.csv\")\n",
        "print(\"Shape:\", heart_disease_selected.shape)\n",
        "print(\"Columns:\", heart_disease_selected.columns.tolist())\n"
      ]
    }
  ],
  "metadata": {
    "kernelspec": {
      "display_name": "Python 3",
      "language": "python",
      "name": "python3"
    },
    "language_info": {
      "codemirror_mode": {
        "name": "ipython",
        "version": 3
      },
      "file_extension": ".py",
      "mimetype": "text/x-python",
      "name": "python",
      "nbconvert_exporter": "python",
      "pygments_lexer": "ipython3",
      "version": "3.12.2"
    }
  },
  "nbformat": 4,
  "nbformat_minor": 5
}
